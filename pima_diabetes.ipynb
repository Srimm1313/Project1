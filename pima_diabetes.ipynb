{
  "nbformat": 4,
  "nbformat_minor": 0,
  "metadata": {
    "colab": {
      "provenance": [],
      "include_colab_link": true
    },
    "kernelspec": {
      "name": "python3",
      "display_name": "Python 3"
    },
    "language_info": {
      "name": "python"
    }
  },
  "cells": [
    {
      "cell_type": "markdown",
      "metadata": {
        "id": "view-in-github",
        "colab_type": "text"
      },
      "source": [
        "<a href=\"https://colab.research.google.com/github/Srimm1313/Project1/blob/main/pima_diabetes.ipynb\" target=\"_parent\"><img src=\"https://colab.research.google.com/assets/colab-badge.svg\" alt=\"Open In Colab\"/></a>"
      ]
    },
    {
      "cell_type": "code",
      "execution_count": null,
      "metadata": {
        "id": "Tw4Api0FM1OU"
      },
      "outputs": [],
      "source": [
        "import pandas as pd\n",
        "import tensorflow as tf\n",
        "import numpy as np"
      ]
    },
    {
      "cell_type": "code",
      "source": [
        "from sklearn.model_selection import train_test_split\n",
        "from sklearn.svm import SVC\n"
      ],
      "metadata": {
        "id": "t8SQAiOZM75O"
      },
      "execution_count": null,
      "outputs": []
    },
    {
      "cell_type": "code",
      "source": [
        "df = pd.read_csv('diabetes.csv')\n",
        "df.head()"
      ],
      "metadata": {
        "colab": {
          "base_uri": "https://localhost:8080/",
          "height": 206
        },
        "id": "R8JetRQ6NID1",
        "outputId": "1f4544e4-2e5a-48b5-c39e-eaa1bbcc5e88"
      },
      "execution_count": null,
      "outputs": [
        {
          "output_type": "execute_result",
          "data": {
            "text/plain": [
              "   Pregnancies  Glucose  BloodPressure  SkinThickness  Insulin   BMI  \\\n",
              "0            6      148             72             35        0  33.6   \n",
              "1            1       85             66             29        0  26.6   \n",
              "2            8      183             64              0        0  23.3   \n",
              "3            1       89             66             23       94  28.1   \n",
              "4            0      137             40             35      168  43.1   \n",
              "\n",
              "   DiabetesPedigreeFunction  Age  Outcome  \n",
              "0                     0.627   50        1  \n",
              "1                     0.351   31        0  \n",
              "2                     0.672   32        1  \n",
              "3                     0.167   21        0  \n",
              "4                     2.288   33        1  "
            ],
            "text/html": [
              "\n",
              "  <div id=\"df-ddc3e4e3-b877-4359-bf3d-f96c2abae2f0\" class=\"colab-df-container\">\n",
              "    <div>\n",
              "<style scoped>\n",
              "    .dataframe tbody tr th:only-of-type {\n",
              "        vertical-align: middle;\n",
              "    }\n",
              "\n",
              "    .dataframe tbody tr th {\n",
              "        vertical-align: top;\n",
              "    }\n",
              "\n",
              "    .dataframe thead th {\n",
              "        text-align: right;\n",
              "    }\n",
              "</style>\n",
              "<table border=\"1\" class=\"dataframe\">\n",
              "  <thead>\n",
              "    <tr style=\"text-align: right;\">\n",
              "      <th></th>\n",
              "      <th>Pregnancies</th>\n",
              "      <th>Glucose</th>\n",
              "      <th>BloodPressure</th>\n",
              "      <th>SkinThickness</th>\n",
              "      <th>Insulin</th>\n",
              "      <th>BMI</th>\n",
              "      <th>DiabetesPedigreeFunction</th>\n",
              "      <th>Age</th>\n",
              "      <th>Outcome</th>\n",
              "    </tr>\n",
              "  </thead>\n",
              "  <tbody>\n",
              "    <tr>\n",
              "      <th>0</th>\n",
              "      <td>6</td>\n",
              "      <td>148</td>\n",
              "      <td>72</td>\n",
              "      <td>35</td>\n",
              "      <td>0</td>\n",
              "      <td>33.6</td>\n",
              "      <td>0.627</td>\n",
              "      <td>50</td>\n",
              "      <td>1</td>\n",
              "    </tr>\n",
              "    <tr>\n",
              "      <th>1</th>\n",
              "      <td>1</td>\n",
              "      <td>85</td>\n",
              "      <td>66</td>\n",
              "      <td>29</td>\n",
              "      <td>0</td>\n",
              "      <td>26.6</td>\n",
              "      <td>0.351</td>\n",
              "      <td>31</td>\n",
              "      <td>0</td>\n",
              "    </tr>\n",
              "    <tr>\n",
              "      <th>2</th>\n",
              "      <td>8</td>\n",
              "      <td>183</td>\n",
              "      <td>64</td>\n",
              "      <td>0</td>\n",
              "      <td>0</td>\n",
              "      <td>23.3</td>\n",
              "      <td>0.672</td>\n",
              "      <td>32</td>\n",
              "      <td>1</td>\n",
              "    </tr>\n",
              "    <tr>\n",
              "      <th>3</th>\n",
              "      <td>1</td>\n",
              "      <td>89</td>\n",
              "      <td>66</td>\n",
              "      <td>23</td>\n",
              "      <td>94</td>\n",
              "      <td>28.1</td>\n",
              "      <td>0.167</td>\n",
              "      <td>21</td>\n",
              "      <td>0</td>\n",
              "    </tr>\n",
              "    <tr>\n",
              "      <th>4</th>\n",
              "      <td>0</td>\n",
              "      <td>137</td>\n",
              "      <td>40</td>\n",
              "      <td>35</td>\n",
              "      <td>168</td>\n",
              "      <td>43.1</td>\n",
              "      <td>2.288</td>\n",
              "      <td>33</td>\n",
              "      <td>1</td>\n",
              "    </tr>\n",
              "  </tbody>\n",
              "</table>\n",
              "</div>\n",
              "    <div class=\"colab-df-buttons\">\n",
              "\n",
              "  <div class=\"colab-df-container\">\n",
              "    <button class=\"colab-df-convert\" onclick=\"convertToInteractive('df-ddc3e4e3-b877-4359-bf3d-f96c2abae2f0')\"\n",
              "            title=\"Convert this dataframe to an interactive table.\"\n",
              "            style=\"display:none;\">\n",
              "\n",
              "  <svg xmlns=\"http://www.w3.org/2000/svg\" height=\"24px\" viewBox=\"0 -960 960 960\">\n",
              "    <path d=\"M120-120v-720h720v720H120Zm60-500h600v-160H180v160Zm220 220h160v-160H400v160Zm0 220h160v-160H400v160ZM180-400h160v-160H180v160Zm440 0h160v-160H620v160ZM180-180h160v-160H180v160Zm440 0h160v-160H620v160Z\"/>\n",
              "  </svg>\n",
              "    </button>\n",
              "\n",
              "  <style>\n",
              "    .colab-df-container {\n",
              "      display:flex;\n",
              "      gap: 12px;\n",
              "    }\n",
              "\n",
              "    .colab-df-convert {\n",
              "      background-color: #E8F0FE;\n",
              "      border: none;\n",
              "      border-radius: 50%;\n",
              "      cursor: pointer;\n",
              "      display: none;\n",
              "      fill: #1967D2;\n",
              "      height: 32px;\n",
              "      padding: 0 0 0 0;\n",
              "      width: 32px;\n",
              "    }\n",
              "\n",
              "    .colab-df-convert:hover {\n",
              "      background-color: #E2EBFA;\n",
              "      box-shadow: 0px 1px 2px rgba(60, 64, 67, 0.3), 0px 1px 3px 1px rgba(60, 64, 67, 0.15);\n",
              "      fill: #174EA6;\n",
              "    }\n",
              "\n",
              "    .colab-df-buttons div {\n",
              "      margin-bottom: 4px;\n",
              "    }\n",
              "\n",
              "    [theme=dark] .colab-df-convert {\n",
              "      background-color: #3B4455;\n",
              "      fill: #D2E3FC;\n",
              "    }\n",
              "\n",
              "    [theme=dark] .colab-df-convert:hover {\n",
              "      background-color: #434B5C;\n",
              "      box-shadow: 0px 1px 3px 1px rgba(0, 0, 0, 0.15);\n",
              "      filter: drop-shadow(0px 1px 2px rgba(0, 0, 0, 0.3));\n",
              "      fill: #FFFFFF;\n",
              "    }\n",
              "  </style>\n",
              "\n",
              "    <script>\n",
              "      const buttonEl =\n",
              "        document.querySelector('#df-ddc3e4e3-b877-4359-bf3d-f96c2abae2f0 button.colab-df-convert');\n",
              "      buttonEl.style.display =\n",
              "        google.colab.kernel.accessAllowed ? 'block' : 'none';\n",
              "\n",
              "      async function convertToInteractive(key) {\n",
              "        const element = document.querySelector('#df-ddc3e4e3-b877-4359-bf3d-f96c2abae2f0');\n",
              "        const dataTable =\n",
              "          await google.colab.kernel.invokeFunction('convertToInteractive',\n",
              "                                                    [key], {});\n",
              "        if (!dataTable) return;\n",
              "\n",
              "        const docLinkHtml = 'Like what you see? Visit the ' +\n",
              "          '<a target=\"_blank\" href=https://colab.research.google.com/notebooks/data_table.ipynb>data table notebook</a>'\n",
              "          + ' to learn more about interactive tables.';\n",
              "        element.innerHTML = '';\n",
              "        dataTable['output_type'] = 'display_data';\n",
              "        await google.colab.output.renderOutput(dataTable, element);\n",
              "        const docLink = document.createElement('div');\n",
              "        docLink.innerHTML = docLinkHtml;\n",
              "        element.appendChild(docLink);\n",
              "      }\n",
              "    </script>\n",
              "  </div>\n",
              "\n",
              "\n",
              "<div id=\"df-78538ddb-7066-4341-9e81-cfe7c7323b73\">\n",
              "  <button class=\"colab-df-quickchart\" onclick=\"quickchart('df-78538ddb-7066-4341-9e81-cfe7c7323b73')\"\n",
              "            title=\"Suggest charts.\"\n",
              "            style=\"display:none;\">\n",
              "\n",
              "<svg xmlns=\"http://www.w3.org/2000/svg\" height=\"24px\"viewBox=\"0 0 24 24\"\n",
              "     width=\"24px\">\n",
              "    <g>\n",
              "        <path d=\"M19 3H5c-1.1 0-2 .9-2 2v14c0 1.1.9 2 2 2h14c1.1 0 2-.9 2-2V5c0-1.1-.9-2-2-2zM9 17H7v-7h2v7zm4 0h-2V7h2v10zm4 0h-2v-4h2v4z\"/>\n",
              "    </g>\n",
              "</svg>\n",
              "  </button>\n",
              "\n",
              "<style>\n",
              "  .colab-df-quickchart {\n",
              "      --bg-color: #E8F0FE;\n",
              "      --fill-color: #1967D2;\n",
              "      --hover-bg-color: #E2EBFA;\n",
              "      --hover-fill-color: #174EA6;\n",
              "      --disabled-fill-color: #AAA;\n",
              "      --disabled-bg-color: #DDD;\n",
              "  }\n",
              "\n",
              "  [theme=dark] .colab-df-quickchart {\n",
              "      --bg-color: #3B4455;\n",
              "      --fill-color: #D2E3FC;\n",
              "      --hover-bg-color: #434B5C;\n",
              "      --hover-fill-color: #FFFFFF;\n",
              "      --disabled-bg-color: #3B4455;\n",
              "      --disabled-fill-color: #666;\n",
              "  }\n",
              "\n",
              "  .colab-df-quickchart {\n",
              "    background-color: var(--bg-color);\n",
              "    border: none;\n",
              "    border-radius: 50%;\n",
              "    cursor: pointer;\n",
              "    display: none;\n",
              "    fill: var(--fill-color);\n",
              "    height: 32px;\n",
              "    padding: 0;\n",
              "    width: 32px;\n",
              "  }\n",
              "\n",
              "  .colab-df-quickchart:hover {\n",
              "    background-color: var(--hover-bg-color);\n",
              "    box-shadow: 0 1px 2px rgba(60, 64, 67, 0.3), 0 1px 3px 1px rgba(60, 64, 67, 0.15);\n",
              "    fill: var(--button-hover-fill-color);\n",
              "  }\n",
              "\n",
              "  .colab-df-quickchart-complete:disabled,\n",
              "  .colab-df-quickchart-complete:disabled:hover {\n",
              "    background-color: var(--disabled-bg-color);\n",
              "    fill: var(--disabled-fill-color);\n",
              "    box-shadow: none;\n",
              "  }\n",
              "\n",
              "  .colab-df-spinner {\n",
              "    border: 2px solid var(--fill-color);\n",
              "    border-color: transparent;\n",
              "    border-bottom-color: var(--fill-color);\n",
              "    animation:\n",
              "      spin 1s steps(1) infinite;\n",
              "  }\n",
              "\n",
              "  @keyframes spin {\n",
              "    0% {\n",
              "      border-color: transparent;\n",
              "      border-bottom-color: var(--fill-color);\n",
              "      border-left-color: var(--fill-color);\n",
              "    }\n",
              "    20% {\n",
              "      border-color: transparent;\n",
              "      border-left-color: var(--fill-color);\n",
              "      border-top-color: var(--fill-color);\n",
              "    }\n",
              "    30% {\n",
              "      border-color: transparent;\n",
              "      border-left-color: var(--fill-color);\n",
              "      border-top-color: var(--fill-color);\n",
              "      border-right-color: var(--fill-color);\n",
              "    }\n",
              "    40% {\n",
              "      border-color: transparent;\n",
              "      border-right-color: var(--fill-color);\n",
              "      border-top-color: var(--fill-color);\n",
              "    }\n",
              "    60% {\n",
              "      border-color: transparent;\n",
              "      border-right-color: var(--fill-color);\n",
              "    }\n",
              "    80% {\n",
              "      border-color: transparent;\n",
              "      border-right-color: var(--fill-color);\n",
              "      border-bottom-color: var(--fill-color);\n",
              "    }\n",
              "    90% {\n",
              "      border-color: transparent;\n",
              "      border-bottom-color: var(--fill-color);\n",
              "    }\n",
              "  }\n",
              "</style>\n",
              "\n",
              "  <script>\n",
              "    async function quickchart(key) {\n",
              "      const quickchartButtonEl =\n",
              "        document.querySelector('#' + key + ' button');\n",
              "      quickchartButtonEl.disabled = true;  // To prevent multiple clicks.\n",
              "      quickchartButtonEl.classList.add('colab-df-spinner');\n",
              "      try {\n",
              "        const charts = await google.colab.kernel.invokeFunction(\n",
              "            'suggestCharts', [key], {});\n",
              "      } catch (error) {\n",
              "        console.error('Error during call to suggestCharts:', error);\n",
              "      }\n",
              "      quickchartButtonEl.classList.remove('colab-df-spinner');\n",
              "      quickchartButtonEl.classList.add('colab-df-quickchart-complete');\n",
              "    }\n",
              "    (() => {\n",
              "      let quickchartButtonEl =\n",
              "        document.querySelector('#df-78538ddb-7066-4341-9e81-cfe7c7323b73 button');\n",
              "      quickchartButtonEl.style.display =\n",
              "        google.colab.kernel.accessAllowed ? 'block' : 'none';\n",
              "    })();\n",
              "  </script>\n",
              "</div>\n",
              "    </div>\n",
              "  </div>\n"
            ]
          },
          "metadata": {},
          "execution_count": 14
        }
      ]
    },
    {
      "cell_type": "code",
      "source": [
        "df['Outcome'].value_counts()"
      ],
      "metadata": {
        "colab": {
          "base_uri": "https://localhost:8080/"
        },
        "id": "C1pv5A4qRw_-",
        "outputId": "5174a7d2-28ce-4b1a-b706-7d04f089c73e"
      },
      "execution_count": null,
      "outputs": [
        {
          "output_type": "execute_result",
          "data": {
            "text/plain": [
              "0    500\n",
              "1    268\n",
              "Name: Outcome, dtype: int64"
            ]
          },
          "metadata": {},
          "execution_count": 24
        }
      ]
    },
    {
      "cell_type": "code",
      "source": [
        "X = df.drop(columns='Outcome')\n",
        "y = df['Outcome'].values.reshape(-1, 1)"
      ],
      "metadata": {
        "id": "56FaweAnNV7l"
      },
      "execution_count": null,
      "outputs": []
    },
    {
      "cell_type": "code",
      "source": [
        "X_train, X_test, y_train, y_test = train_test_split(X, y, random_state=13)"
      ],
      "metadata": {
        "id": "_WgPq2wVO9ne"
      },
      "execution_count": null,
      "outputs": []
    },
    {
      "cell_type": "code",
      "source": [
        "clf = SVC()\n",
        "clf.fit(X_train, y_train)\n",
        "print(clf.score(X_test, y_test))\n",
        "print(clf.score(X_train, y_train))"
      ],
      "metadata": {
        "colab": {
          "base_uri": "https://localhost:8080/"
        },
        "id": "YXiMTugePub8",
        "outputId": "aeda4402-fc55-48b4-da6f-d74964a87c65"
      },
      "execution_count": null,
      "outputs": [
        {
          "output_type": "stream",
          "name": "stdout",
          "text": [
            "0.7552083333333334\n",
            "0.7777777777777778\n"
          ]
        },
        {
          "output_type": "stream",
          "name": "stderr",
          "text": [
            "/usr/local/lib/python3.10/dist-packages/sklearn/utils/validation.py:1143: DataConversionWarning: A column-vector y was passed when a 1d array was expected. Please change the shape of y to (n_samples, ), for example using ravel().\n",
            "  y = column_or_1d(y, warn=True)\n"
          ]
        }
      ]
    },
    {
      "cell_type": "code",
      "source": [
        "from tensorflow.keras.models import Sequential\n",
        "brain = Sequential()"
      ],
      "metadata": {
        "id": "YzE_prUEP2C3"
      },
      "execution_count": null,
      "outputs": []
    },
    {
      "cell_type": "code",
      "source": [
        "from tensorflow.keras.layers import Dense\n",
        "\n",
        "num_inputs = len(X_train.columns)\n",
        "brain.add(Dense(units = 10, input_dim = num_inputs, activation='relu'))\n",
        "brain.add(Dense(units = 10, activation='relu'))\n",
        "brain.add(Dense(units = 10, activation='relu'))\n",
        "brain.add(Dense(units=1, activation='sigmoid'))\n",
        "brain.summary()"
      ],
      "metadata": {
        "colab": {
          "base_uri": "https://localhost:8080/"
        },
        "id": "LE-XF12gQQph",
        "outputId": "7eb282f8-db58-42cd-993f-e07f43644c0e"
      },
      "execution_count": null,
      "outputs": [
        {
          "output_type": "stream",
          "name": "stdout",
          "text": [
            "Model: \"sequential_7\"\n",
            "_________________________________________________________________\n",
            " Layer (type)                Output Shape              Param #   \n",
            "=================================================================\n",
            " dense_14 (Dense)            (None, 10)                90        \n",
            "                                                                 \n",
            " dense_15 (Dense)            (None, 10)                110       \n",
            "                                                                 \n",
            " dense_16 (Dense)            (None, 10)                110       \n",
            "                                                                 \n",
            " dense_17 (Dense)            (None, 1)                 11        \n",
            "                                                                 \n",
            "=================================================================\n",
            "Total params: 321 (1.25 KB)\n",
            "Trainable params: 321 (1.25 KB)\n",
            "Non-trainable params: 0 (0.00 Byte)\n",
            "_________________________________________________________________\n"
          ]
        }
      ]
    },
    {
      "cell_type": "code",
      "source": [
        "brain.compile(loss='binary_crossentropy', optimizer='adam', metrics=['AUC', 'accuracy'])"
      ],
      "metadata": {
        "id": "ABU0TvDgQsKb"
      },
      "execution_count": null,
      "outputs": []
    },
    {
      "cell_type": "code",
      "source": [
        "brain.fit(X_train, y_train, epochs=50)"
      ],
      "metadata": {
        "colab": {
          "base_uri": "https://localhost:8080/"
        },
        "id": "dqgwGGIyQtOJ",
        "outputId": "8234e1ae-063c-46af-ade8-25fe6b8547be"
      },
      "execution_count": null,
      "outputs": [
        {
          "output_type": "stream",
          "name": "stdout",
          "text": [
            "Epoch 1/50\n",
            "18/18 [==============================] - 1s 3ms/step - loss: 3.7393 - auc: 0.4725 - accuracy: 0.6615\n",
            "Epoch 2/50\n",
            "18/18 [==============================] - 0s 3ms/step - loss: 1.0440 - auc: 0.5979 - accuracy: 0.5469\n",
            "Epoch 3/50\n",
            "18/18 [==============================] - 0s 3ms/step - loss: 0.8269 - auc: 0.5567 - accuracy: 0.6267\n",
            "Epoch 4/50\n",
            "18/18 [==============================] - 0s 2ms/step - loss: 0.7601 - auc: 0.5876 - accuracy: 0.6059\n",
            "Epoch 5/50\n",
            "18/18 [==============================] - 0s 2ms/step - loss: 0.7057 - auc: 0.6188 - accuracy: 0.6250\n",
            "Epoch 6/50\n",
            "18/18 [==============================] - 0s 4ms/step - loss: 0.6741 - auc: 0.6518 - accuracy: 0.6302\n",
            "Epoch 7/50\n",
            "18/18 [==============================] - 0s 2ms/step - loss: 0.6719 - auc: 0.6351 - accuracy: 0.6372\n",
            "Epoch 8/50\n",
            "18/18 [==============================] - 0s 2ms/step - loss: 0.6709 - auc: 0.6374 - accuracy: 0.6615\n",
            "Epoch 9/50\n",
            "18/18 [==============================] - 0s 3ms/step - loss: 0.6520 - auc: 0.6668 - accuracy: 0.6719\n",
            "Epoch 10/50\n",
            "18/18 [==============================] - 0s 3ms/step - loss: 0.6432 - auc: 0.6626 - accuracy: 0.6510\n",
            "Epoch 11/50\n",
            "18/18 [==============================] - 0s 2ms/step - loss: 0.6224 - auc: 0.6724 - accuracy: 0.6493\n",
            "Epoch 12/50\n",
            "18/18 [==============================] - 0s 3ms/step - loss: 0.6183 - auc: 0.6786 - accuracy: 0.6580\n",
            "Epoch 13/50\n",
            "18/18 [==============================] - 0s 2ms/step - loss: 0.6045 - auc: 0.6960 - accuracy: 0.6736\n",
            "Epoch 14/50\n",
            "18/18 [==============================] - 0s 3ms/step - loss: 0.5983 - auc: 0.7120 - accuracy: 0.6927\n",
            "Epoch 15/50\n",
            "18/18 [==============================] - 0s 3ms/step - loss: 0.6006 - auc: 0.7011 - accuracy: 0.6806\n",
            "Epoch 16/50\n",
            "18/18 [==============================] - 0s 3ms/step - loss: 0.5869 - auc: 0.7212 - accuracy: 0.6910\n",
            "Epoch 17/50\n",
            "18/18 [==============================] - 0s 3ms/step - loss: 0.5922 - auc: 0.7064 - accuracy: 0.6806\n",
            "Epoch 18/50\n",
            "18/18 [==============================] - 0s 3ms/step - loss: 0.5909 - auc: 0.7142 - accuracy: 0.6840\n",
            "Epoch 19/50\n",
            "18/18 [==============================] - 0s 3ms/step - loss: 0.5814 - auc: 0.7252 - accuracy: 0.6806\n",
            "Epoch 20/50\n",
            "18/18 [==============================] - 0s 3ms/step - loss: 0.5827 - auc: 0.7235 - accuracy: 0.6788\n",
            "Epoch 21/50\n",
            "18/18 [==============================] - 0s 2ms/step - loss: 0.5836 - auc: 0.7178 - accuracy: 0.6753\n",
            "Epoch 22/50\n",
            "18/18 [==============================] - 0s 2ms/step - loss: 0.5815 - auc: 0.7188 - accuracy: 0.6979\n",
            "Epoch 23/50\n",
            "18/18 [==============================] - 0s 3ms/step - loss: 0.5722 - auc: 0.7297 - accuracy: 0.6979\n",
            "Epoch 24/50\n",
            "18/18 [==============================] - 0s 3ms/step - loss: 0.5738 - auc: 0.7295 - accuracy: 0.7014\n",
            "Epoch 25/50\n",
            "18/18 [==============================] - 0s 3ms/step - loss: 0.5657 - auc: 0.7413 - accuracy: 0.6997\n",
            "Epoch 26/50\n",
            "18/18 [==============================] - 0s 3ms/step - loss: 0.5680 - auc: 0.7336 - accuracy: 0.6823\n",
            "Epoch 27/50\n",
            "18/18 [==============================] - 0s 3ms/step - loss: 0.5667 - auc: 0.7388 - accuracy: 0.6944\n",
            "Epoch 28/50\n",
            "18/18 [==============================] - 0s 3ms/step - loss: 0.5785 - auc: 0.7217 - accuracy: 0.6823\n",
            "Epoch 29/50\n",
            "18/18 [==============================] - 0s 2ms/step - loss: 0.5642 - auc: 0.7393 - accuracy: 0.6979\n",
            "Epoch 30/50\n",
            "18/18 [==============================] - 0s 3ms/step - loss: 0.5628 - auc: 0.7433 - accuracy: 0.7135\n",
            "Epoch 31/50\n",
            "18/18 [==============================] - 0s 3ms/step - loss: 0.5635 - auc: 0.7435 - accuracy: 0.7014\n",
            "Epoch 32/50\n",
            "18/18 [==============================] - 0s 3ms/step - loss: 0.5656 - auc: 0.7402 - accuracy: 0.7118\n",
            "Epoch 33/50\n",
            "18/18 [==============================] - 0s 3ms/step - loss: 0.5547 - auc: 0.7517 - accuracy: 0.7257\n",
            "Epoch 34/50\n",
            "18/18 [==============================] - 0s 2ms/step - loss: 0.5639 - auc: 0.7452 - accuracy: 0.7031\n",
            "Epoch 35/50\n",
            "18/18 [==============================] - 0s 3ms/step - loss: 0.5558 - auc: 0.7465 - accuracy: 0.7014\n",
            "Epoch 36/50\n",
            "18/18 [==============================] - 0s 3ms/step - loss: 0.5557 - auc: 0.7511 - accuracy: 0.7292\n",
            "Epoch 37/50\n",
            "18/18 [==============================] - 0s 3ms/step - loss: 0.5495 - auc: 0.7580 - accuracy: 0.7188\n",
            "Epoch 38/50\n",
            "18/18 [==============================] - 0s 2ms/step - loss: 0.5620 - auc: 0.7410 - accuracy: 0.7101\n",
            "Epoch 39/50\n",
            "18/18 [==============================] - 0s 3ms/step - loss: 0.5614 - auc: 0.7421 - accuracy: 0.7083\n",
            "Epoch 40/50\n",
            "18/18 [==============================] - 0s 2ms/step - loss: 0.5753 - auc: 0.7304 - accuracy: 0.7083\n",
            "Epoch 41/50\n",
            "18/18 [==============================] - 0s 3ms/step - loss: 0.5483 - auc: 0.7586 - accuracy: 0.7257\n",
            "Epoch 42/50\n",
            "18/18 [==============================] - 0s 3ms/step - loss: 0.5509 - auc: 0.7557 - accuracy: 0.7170\n",
            "Epoch 43/50\n",
            "18/18 [==============================] - 0s 2ms/step - loss: 0.5454 - auc: 0.7691 - accuracy: 0.7257\n",
            "Epoch 44/50\n",
            "18/18 [==============================] - 0s 3ms/step - loss: 0.5522 - auc: 0.7529 - accuracy: 0.7222\n",
            "Epoch 45/50\n",
            "18/18 [==============================] - 0s 2ms/step - loss: 0.5570 - auc: 0.7436 - accuracy: 0.7188\n",
            "Epoch 46/50\n",
            "18/18 [==============================] - 0s 2ms/step - loss: 0.5617 - auc: 0.7371 - accuracy: 0.7083\n",
            "Epoch 47/50\n",
            "18/18 [==============================] - 0s 3ms/step - loss: 0.5384 - auc: 0.7703 - accuracy: 0.7257\n",
            "Epoch 48/50\n",
            "18/18 [==============================] - 0s 3ms/step - loss: 0.5366 - auc: 0.7763 - accuracy: 0.7378\n",
            "Epoch 49/50\n",
            "18/18 [==============================] - 0s 3ms/step - loss: 0.5410 - auc: 0.7689 - accuracy: 0.7274\n",
            "Epoch 50/50\n",
            "18/18 [==============================] - 0s 3ms/step - loss: 0.5341 - auc: 0.7796 - accuracy: 0.7569\n"
          ]
        },
        {
          "output_type": "execute_result",
          "data": {
            "text/plain": [
              "<keras.src.callbacks.History at 0x798e1b8a8be0>"
            ]
          },
          "metadata": {},
          "execution_count": 57
        }
      ]
    },
    {
      "cell_type": "code",
      "source": [
        "brain.evaluate(X_test, y_test)"
      ],
      "metadata": {
        "colab": {
          "base_uri": "https://localhost:8080/"
        },
        "id": "ESOTOkKPSXHY",
        "outputId": "7062e0f0-0a67-45fc-a3cf-29ac366845d6"
      },
      "execution_count": null,
      "outputs": [
        {
          "output_type": "stream",
          "name": "stdout",
          "text": [
            "6/6 [==============================] - 0s 4ms/step - loss: 0.5710 - auc: 0.7601 - accuracy: 0.6927\n"
          ]
        },
        {
          "output_type": "execute_result",
          "data": {
            "text/plain": [
              "[0.5710039734840393, 0.7600977420806885, 0.6927083134651184]"
            ]
          },
          "metadata": {},
          "execution_count": 58
        }
      ]
    },
    {
      "cell_type": "code",
      "source": [],
      "metadata": {
        "id": "FvZ1LKQNShUZ"
      },
      "execution_count": null,
      "outputs": []
    }
  ]
}