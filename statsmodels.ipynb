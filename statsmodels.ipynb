{
  "nbformat": 4,
  "nbformat_minor": 0,
  "metadata": {
    "colab": {
      "provenance": [],
      "authorship_tag": "ABX9TyOshI0Rme4nlzrr3bCAFTRG",
      "include_colab_link": true
    },
    "kernelspec": {
      "name": "python3",
      "display_name": "Python 3"
    },
    "language_info": {
      "name": "python"
    }
  },
  "cells": [
    {
      "cell_type": "markdown",
      "metadata": {
        "id": "view-in-github",
        "colab_type": "text"
      },
      "source": [
        "<a href=\"https://colab.research.google.com/github/Srimm1313/Project1/blob/main/statsmodels.ipynb\" target=\"_parent\"><img src=\"https://colab.research.google.com/assets/colab-badge.svg\" alt=\"Open In Colab\"/></a>"
      ]
    },
    {
      "cell_type": "code",
      "execution_count": 10,
      "metadata": {
        "id": "29L8EwQuB9Rl"
      },
      "outputs": [],
      "source": [
        "import numpy as np\n",
        "import statsmodels.api as sm\n",
        "import statsmodels.formula.api as smf"
      ]
    },
    {
      "cell_type": "code",
      "source": [
        "#load data\n",
        "dat = sm.datasets.get_rdataset(\"Guerry\", \"HistData\").data"
      ],
      "metadata": {
        "id": "Ug4daxqGCNiR"
      },
      "execution_count": 2,
      "outputs": []
    },
    {
      "cell_type": "code",
      "source": [
        "# Fit regression model (using the natural log of one of the regressors)\n",
        "results = smf.ols('Lottery ~ Literacy + np.log(Pop1831)', data=dat).fit()"
      ],
      "metadata": {
        "id": "gaNF1COoCY7F"
      },
      "execution_count": 3,
      "outputs": []
    },
    {
      "cell_type": "code",
      "source": [
        "# Inspect the results\n",
        "print(results.summary())"
      ],
      "metadata": {
        "colab": {
          "base_uri": "https://localhost:8080/"
        },
        "id": "2z_bLn_ECqCj",
        "outputId": "687638e4-42d9-47e6-e3d7-a9897e9793ab"
      },
      "execution_count": 4,
      "outputs": [
        {
          "output_type": "stream",
          "name": "stdout",
          "text": [
            "                            OLS Regression Results                            \n",
            "==============================================================================\n",
            "Dep. Variable:                Lottery   R-squared:                       0.348\n",
            "Model:                            OLS   Adj. R-squared:                  0.333\n",
            "Method:                 Least Squares   F-statistic:                     22.20\n",
            "Date:                Tue, 05 Sep 2023   Prob (F-statistic):           1.90e-08\n",
            "Time:                        15:51:36   Log-Likelihood:                -379.82\n",
            "No. Observations:                  86   AIC:                             765.6\n",
            "Df Residuals:                      83   BIC:                             773.0\n",
            "Df Model:                           2                                         \n",
            "Covariance Type:            nonrobust                                         \n",
            "===================================================================================\n",
            "                      coef    std err          t      P>|t|      [0.025      0.975]\n",
            "-----------------------------------------------------------------------------------\n",
            "Intercept         246.4341     35.233      6.995      0.000     176.358     316.510\n",
            "Literacy           -0.4889      0.128     -3.832      0.000      -0.743      -0.235\n",
            "np.log(Pop1831)   -31.3114      5.977     -5.239      0.000     -43.199     -19.424\n",
            "==============================================================================\n",
            "Omnibus:                        3.713   Durbin-Watson:                   2.019\n",
            "Prob(Omnibus):                  0.156   Jarque-Bera (JB):                3.394\n",
            "Skew:                          -0.487   Prob(JB):                        0.183\n",
            "Kurtosis:                       3.003   Cond. No.                         702.\n",
            "==============================================================================\n",
            "\n",
            "Notes:\n",
            "[1] Standard Errors assume that the covariance matrix of the errors is correctly specified.\n"
          ]
        }
      ]
    },
    {
      "cell_type": "code",
      "source": [
        "#Notes:\n",
        "#Standard Errors assume that the covariance matrix of the errors is correctly specified."
      ],
      "metadata": {
        "id": "k21mwggRCuWI"
      },
      "execution_count": null,
      "outputs": []
    },
    {
      "cell_type": "code",
      "source": [
        "#You can also use numpy arrays instead of formulas:\n",
        "# Generate artificial data (2 regressors + constant)\n",
        "nobs = 100"
      ],
      "metadata": {
        "id": "eODCVV5GDEt0"
      },
      "execution_count": 5,
      "outputs": []
    },
    {
      "cell_type": "code",
      "source": [
        "import numpy as np\n",
        "import statsmodels.api as sm"
      ],
      "metadata": {
        "id": "v2kwL3YoDmuA"
      },
      "execution_count": 15,
      "outputs": []
    },
    {
      "cell_type": "code",
      "source": [
        "X = np.random.random((nobs, 2))"
      ],
      "metadata": {
        "id": "rzOJVVKbDNtD"
      },
      "execution_count": 16,
      "outputs": []
    },
    {
      "cell_type": "code",
      "source": [
        "X = sm.add_constant(X)"
      ],
      "metadata": {
        "id": "rAabPxYCD0l3"
      },
      "execution_count": 20,
      "outputs": []
    },
    {
      "cell_type": "code",
      "source": [
        "beta = [1, .1, .5]"
      ],
      "metadata": {
        "id": "bGXaL7VeDRQv"
      },
      "execution_count": 21,
      "outputs": []
    },
    {
      "cell_type": "code",
      "source": [
        "e = np.random.random(nobs)"
      ],
      "metadata": {
        "id": "SLEHccoIDUEV"
      },
      "execution_count": 22,
      "outputs": []
    },
    {
      "cell_type": "code",
      "source": [
        "y = np.dot(X, beta) + e"
      ],
      "metadata": {
        "id": "VPCmdqMFDXLB"
      },
      "execution_count": 23,
      "outputs": []
    },
    {
      "cell_type": "code",
      "source": [
        "# Fit regression model\n",
        "results = sm.OLS(y, X).fit()"
      ],
      "metadata": {
        "id": "BmHWLza6D-yz"
      },
      "execution_count": 24,
      "outputs": []
    },
    {
      "cell_type": "code",
      "source": [
        "# Inspect the results\n",
        "print(results.summary())"
      ],
      "metadata": {
        "colab": {
          "base_uri": "https://localhost:8080/"
        },
        "id": "_9npbVIqEEZr",
        "outputId": "757e3b37-5b40-459b-90d1-bed8996f6525"
      },
      "execution_count": 25,
      "outputs": [
        {
          "output_type": "stream",
          "name": "stdout",
          "text": [
            "                            OLS Regression Results                            \n",
            "==============================================================================\n",
            "Dep. Variable:                      y   R-squared:                       0.212\n",
            "Model:                            OLS   Adj. R-squared:                  0.195\n",
            "Method:                 Least Squares   F-statistic:                     13.01\n",
            "Date:                Tue, 05 Sep 2023   Prob (F-statistic):           9.87e-06\n",
            "Time:                        15:57:51   Log-Likelihood:                -29.182\n",
            "No. Observations:                 100   AIC:                             64.36\n",
            "Df Residuals:                      97   BIC:                             72.18\n",
            "Df Model:                           2                                         \n",
            "Covariance Type:            nonrobust                                         \n",
            "==============================================================================\n",
            "                 coef    std err          t      P>|t|      [0.025      0.975]\n",
            "------------------------------------------------------------------------------\n",
            "const          1.5124      0.086     17.623      0.000       1.342       1.683\n",
            "x1             0.1400      0.119      1.177      0.242      -0.096       0.376\n",
            "x2             0.5193      0.104      4.997      0.000       0.313       0.726\n",
            "==============================================================================\n",
            "Omnibus:                       85.662   Durbin-Watson:                   2.044\n",
            "Prob(Omnibus):                  0.000   Jarque-Bera (JB):                8.068\n",
            "Skew:                          -0.095   Prob(JB):                       0.0177\n",
            "Kurtosis:                       1.621   Cond. No.                         5.30\n",
            "==============================================================================\n",
            "\n",
            "Notes:\n",
            "[1] Standard Errors assume that the covariance matrix of the errors is correctly specified.\n"
          ]
        }
      ]
    },
    {
      "cell_type": "code",
      "source": [
        "#Notes:\n",
        "#Standard Errors assume that the covariance matrix of the errors is correctly specified."
      ],
      "metadata": {
        "id": "QH8yCdprEKJr"
      },
      "execution_count": 26,
      "outputs": []
    }
  ]
}