{
  "nbformat": 4,
  "nbformat_minor": 0,
  "metadata": {
    "colab": {
      "provenance": [],
      "authorship_tag": "ABX9TyOSV2QR0tIeRjv6W3xCyl/6",
      "include_colab_link": true
    },
    "kernelspec": {
      "name": "python3",
      "display_name": "Python 3"
    },
    "language_info": {
      "name": "python"
    }
  },
  "cells": [
    {
      "cell_type": "markdown",
      "metadata": {
        "id": "view-in-github",
        "colab_type": "text"
      },
      "source": [
        "<a href=\"https://colab.research.google.com/github/Srimm1313/Project1/blob/main/Student_Loan_Risk_with_Deep_Learning.ipynb\" target=\"_parent\"><img src=\"https://colab.research.google.com/assets/colab-badge.svg\" alt=\"Open In Colab\"/></a>"
      ]
    },
    {
      "cell_type": "code",
      "execution_count": 1,
      "metadata": {
        "id": "Rubrixn5arU4"
      },
      "outputs": [],
      "source": [
        "# Imports\n",
        "import pandas as pd\n",
        "from pathlib import Path\n",
        "import tensorflow as tf\n",
        "from tensorflow.keras.layers import Dense\n",
        "from tensorflow.keras.models import Sequential\n",
        "from sklearn.model_selection import train_test_split\n",
        "from sklearn.preprocessing import StandardScaler"
      ]
    },
    {
      "cell_type": "markdown",
      "source": [
        "# **Prepare the data to be used on a neural network model**\n",
        "\n",
        "**Step 1: Read the student_loans.csv file into a Pandas DataFrame. Review the DataFrame, looking for columns that could eventually define your features and target variables.**\n"
      ],
      "metadata": {
        "id": "YVSZWmLXbJP2"
      }
    },
    {
      "cell_type": "code",
      "source": [
        "# Read the csv into a Pandas DataFrame\n",
        "file_path = \"https://static.bc-edx.com/mbc/ai/m6/datasets/student_loans.csv\"\n",
        "cc_df = pd.read_csv(file_path)\n",
        "\n",
        "# Review the DataFrame\n",
        "cc_df.head()"
      ],
      "metadata": {
        "colab": {
          "base_uri": "https://localhost:8080/",
          "height": 226
        },
        "id": "5VF32RnWbNio",
        "outputId": "ca8fb8fb-9de7-41f7-dc63-227a7d6dd6e6"
      },
      "execution_count": 2,
      "outputs": [
        {
          "output_type": "execute_result",
          "data": {
            "text/plain": [
              "   payment_history  location_parameter  stem_degree_score  gpa_ranking  \\\n",
              "0              7.4                0.70               0.00          1.9   \n",
              "1              7.8                0.88               0.00          2.6   \n",
              "2              7.8                0.76               0.04          2.3   \n",
              "3             11.2                0.28               0.56          1.9   \n",
              "4              7.4                0.70               0.00          1.9   \n",
              "\n",
              "   alumni_success  study_major_code  time_to_completion  \\\n",
              "0           0.076              11.0                34.0   \n",
              "1           0.098              25.0                67.0   \n",
              "2           0.092              15.0                54.0   \n",
              "3           0.075              17.0                60.0   \n",
              "4           0.076              11.0                34.0   \n",
              "\n",
              "   finance_workshop_score  cohort_ranking  total_loan_score  \\\n",
              "0                  0.9978            3.51              0.56   \n",
              "1                  0.9968            3.20              0.68   \n",
              "2                  0.9970            3.26              0.65   \n",
              "3                  0.9980            3.16              0.58   \n",
              "4                  0.9978            3.51              0.56   \n",
              "\n",
              "   financial_aid_score  credit_ranking  \n",
              "0                  9.4               5  \n",
              "1                  9.8               5  \n",
              "2                  9.8               5  \n",
              "3                  9.8               6  \n",
              "4                  9.4               5  "
            ],
            "text/html": [
              "\n",
              "  <div id=\"df-f319f6db-4c23-4333-8c3b-860a4c39ced5\" class=\"colab-df-container\">\n",
              "    <div>\n",
              "<style scoped>\n",
              "    .dataframe tbody tr th:only-of-type {\n",
              "        vertical-align: middle;\n",
              "    }\n",
              "\n",
              "    .dataframe tbody tr th {\n",
              "        vertical-align: top;\n",
              "    }\n",
              "\n",
              "    .dataframe thead th {\n",
              "        text-align: right;\n",
              "    }\n",
              "</style>\n",
              "<table border=\"1\" class=\"dataframe\">\n",
              "  <thead>\n",
              "    <tr style=\"text-align: right;\">\n",
              "      <th></th>\n",
              "      <th>payment_history</th>\n",
              "      <th>location_parameter</th>\n",
              "      <th>stem_degree_score</th>\n",
              "      <th>gpa_ranking</th>\n",
              "      <th>alumni_success</th>\n",
              "      <th>study_major_code</th>\n",
              "      <th>time_to_completion</th>\n",
              "      <th>finance_workshop_score</th>\n",
              "      <th>cohort_ranking</th>\n",
              "      <th>total_loan_score</th>\n",
              "      <th>financial_aid_score</th>\n",
              "      <th>credit_ranking</th>\n",
              "    </tr>\n",
              "  </thead>\n",
              "  <tbody>\n",
              "    <tr>\n",
              "      <th>0</th>\n",
              "      <td>7.4</td>\n",
              "      <td>0.70</td>\n",
              "      <td>0.00</td>\n",
              "      <td>1.9</td>\n",
              "      <td>0.076</td>\n",
              "      <td>11.0</td>\n",
              "      <td>34.0</td>\n",
              "      <td>0.9978</td>\n",
              "      <td>3.51</td>\n",
              "      <td>0.56</td>\n",
              "      <td>9.4</td>\n",
              "      <td>5</td>\n",
              "    </tr>\n",
              "    <tr>\n",
              "      <th>1</th>\n",
              "      <td>7.8</td>\n",
              "      <td>0.88</td>\n",
              "      <td>0.00</td>\n",
              "      <td>2.6</td>\n",
              "      <td>0.098</td>\n",
              "      <td>25.0</td>\n",
              "      <td>67.0</td>\n",
              "      <td>0.9968</td>\n",
              "      <td>3.20</td>\n",
              "      <td>0.68</td>\n",
              "      <td>9.8</td>\n",
              "      <td>5</td>\n",
              "    </tr>\n",
              "    <tr>\n",
              "      <th>2</th>\n",
              "      <td>7.8</td>\n",
              "      <td>0.76</td>\n",
              "      <td>0.04</td>\n",
              "      <td>2.3</td>\n",
              "      <td>0.092</td>\n",
              "      <td>15.0</td>\n",
              "      <td>54.0</td>\n",
              "      <td>0.9970</td>\n",
              "      <td>3.26</td>\n",
              "      <td>0.65</td>\n",
              "      <td>9.8</td>\n",
              "      <td>5</td>\n",
              "    </tr>\n",
              "    <tr>\n",
              "      <th>3</th>\n",
              "      <td>11.2</td>\n",
              "      <td>0.28</td>\n",
              "      <td>0.56</td>\n",
              "      <td>1.9</td>\n",
              "      <td>0.075</td>\n",
              "      <td>17.0</td>\n",
              "      <td>60.0</td>\n",
              "      <td>0.9980</td>\n",
              "      <td>3.16</td>\n",
              "      <td>0.58</td>\n",
              "      <td>9.8</td>\n",
              "      <td>6</td>\n",
              "    </tr>\n",
              "    <tr>\n",
              "      <th>4</th>\n",
              "      <td>7.4</td>\n",
              "      <td>0.70</td>\n",
              "      <td>0.00</td>\n",
              "      <td>1.9</td>\n",
              "      <td>0.076</td>\n",
              "      <td>11.0</td>\n",
              "      <td>34.0</td>\n",
              "      <td>0.9978</td>\n",
              "      <td>3.51</td>\n",
              "      <td>0.56</td>\n",
              "      <td>9.4</td>\n",
              "      <td>5</td>\n",
              "    </tr>\n",
              "  </tbody>\n",
              "</table>\n",
              "</div>\n",
              "    <div class=\"colab-df-buttons\">\n",
              "\n",
              "  <div class=\"colab-df-container\">\n",
              "    <button class=\"colab-df-convert\" onclick=\"convertToInteractive('df-f319f6db-4c23-4333-8c3b-860a4c39ced5')\"\n",
              "            title=\"Convert this dataframe to an interactive table.\"\n",
              "            style=\"display:none;\">\n",
              "\n",
              "  <svg xmlns=\"http://www.w3.org/2000/svg\" height=\"24px\" viewBox=\"0 -960 960 960\">\n",
              "    <path d=\"M120-120v-720h720v720H120Zm60-500h600v-160H180v160Zm220 220h160v-160H400v160Zm0 220h160v-160H400v160ZM180-400h160v-160H180v160Zm440 0h160v-160H620v160ZM180-180h160v-160H180v160Zm440 0h160v-160H620v160Z\"/>\n",
              "  </svg>\n",
              "    </button>\n",
              "\n",
              "  <style>\n",
              "    .colab-df-container {\n",
              "      display:flex;\n",
              "      gap: 12px;\n",
              "    }\n",
              "\n",
              "    .colab-df-convert {\n",
              "      background-color: #E8F0FE;\n",
              "      border: none;\n",
              "      border-radius: 50%;\n",
              "      cursor: pointer;\n",
              "      display: none;\n",
              "      fill: #1967D2;\n",
              "      height: 32px;\n",
              "      padding: 0 0 0 0;\n",
              "      width: 32px;\n",
              "    }\n",
              "\n",
              "    .colab-df-convert:hover {\n",
              "      background-color: #E2EBFA;\n",
              "      box-shadow: 0px 1px 2px rgba(60, 64, 67, 0.3), 0px 1px 3px 1px rgba(60, 64, 67, 0.15);\n",
              "      fill: #174EA6;\n",
              "    }\n",
              "\n",
              "    .colab-df-buttons div {\n",
              "      margin-bottom: 4px;\n",
              "    }\n",
              "\n",
              "    [theme=dark] .colab-df-convert {\n",
              "      background-color: #3B4455;\n",
              "      fill: #D2E3FC;\n",
              "    }\n",
              "\n",
              "    [theme=dark] .colab-df-convert:hover {\n",
              "      background-color: #434B5C;\n",
              "      box-shadow: 0px 1px 3px 1px rgba(0, 0, 0, 0.15);\n",
              "      filter: drop-shadow(0px 1px 2px rgba(0, 0, 0, 0.3));\n",
              "      fill: #FFFFFF;\n",
              "    }\n",
              "  </style>\n",
              "\n",
              "    <script>\n",
              "      const buttonEl =\n",
              "        document.querySelector('#df-f319f6db-4c23-4333-8c3b-860a4c39ced5 button.colab-df-convert');\n",
              "      buttonEl.style.display =\n",
              "        google.colab.kernel.accessAllowed ? 'block' : 'none';\n",
              "\n",
              "      async function convertToInteractive(key) {\n",
              "        const element = document.querySelector('#df-f319f6db-4c23-4333-8c3b-860a4c39ced5');\n",
              "        const dataTable =\n",
              "          await google.colab.kernel.invokeFunction('convertToInteractive',\n",
              "                                                    [key], {});\n",
              "        if (!dataTable) return;\n",
              "\n",
              "        const docLinkHtml = 'Like what you see? Visit the ' +\n",
              "          '<a target=\"_blank\" href=https://colab.research.google.com/notebooks/data_table.ipynb>data table notebook</a>'\n",
              "          + ' to learn more about interactive tables.';\n",
              "        element.innerHTML = '';\n",
              "        dataTable['output_type'] = 'display_data';\n",
              "        await google.colab.output.renderOutput(dataTable, element);\n",
              "        const docLink = document.createElement('div');\n",
              "        docLink.innerHTML = docLinkHtml;\n",
              "        element.appendChild(docLink);\n",
              "      }\n",
              "    </script>\n",
              "  </div>\n",
              "\n",
              "\n",
              "<div id=\"df-d4d70445-bc1f-44a8-980b-a222a634984a\">\n",
              "  <button class=\"colab-df-quickchart\" onclick=\"quickchart('df-d4d70445-bc1f-44a8-980b-a222a634984a')\"\n",
              "            title=\"Suggest charts.\"\n",
              "            style=\"display:none;\">\n",
              "\n",
              "<svg xmlns=\"http://www.w3.org/2000/svg\" height=\"24px\"viewBox=\"0 0 24 24\"\n",
              "     width=\"24px\">\n",
              "    <g>\n",
              "        <path d=\"M19 3H5c-1.1 0-2 .9-2 2v14c0 1.1.9 2 2 2h14c1.1 0 2-.9 2-2V5c0-1.1-.9-2-2-2zM9 17H7v-7h2v7zm4 0h-2V7h2v10zm4 0h-2v-4h2v4z\"/>\n",
              "    </g>\n",
              "</svg>\n",
              "  </button>\n",
              "\n",
              "<style>\n",
              "  .colab-df-quickchart {\n",
              "    background-color: #E8F0FE;\n",
              "    border: none;\n",
              "    border-radius: 50%;\n",
              "    cursor: pointer;\n",
              "    display: none;\n",
              "    fill: #1967D2;\n",
              "    height: 32px;\n",
              "    padding: 0 0 0 0;\n",
              "    width: 32px;\n",
              "  }\n",
              "\n",
              "  .colab-df-quickchart:hover {\n",
              "    background-color: #E2EBFA;\n",
              "    box-shadow: 0px 1px 2px rgba(60, 64, 67, 0.3), 0px 1px 3px 1px rgba(60, 64, 67, 0.15);\n",
              "    fill: #174EA6;\n",
              "  }\n",
              "\n",
              "  [theme=dark] .colab-df-quickchart {\n",
              "    background-color: #3B4455;\n",
              "    fill: #D2E3FC;\n",
              "  }\n",
              "\n",
              "  [theme=dark] .colab-df-quickchart:hover {\n",
              "    background-color: #434B5C;\n",
              "    box-shadow: 0px 1px 3px 1px rgba(0, 0, 0, 0.15);\n",
              "    filter: drop-shadow(0px 1px 2px rgba(0, 0, 0, 0.3));\n",
              "    fill: #FFFFFF;\n",
              "  }\n",
              "</style>\n",
              "\n",
              "  <script>\n",
              "    async function quickchart(key) {\n",
              "      const charts = await google.colab.kernel.invokeFunction(\n",
              "          'suggestCharts', [key], {});\n",
              "    }\n",
              "    (() => {\n",
              "      let quickchartButtonEl =\n",
              "        document.querySelector('#df-d4d70445-bc1f-44a8-980b-a222a634984a button');\n",
              "      quickchartButtonEl.style.display =\n",
              "        google.colab.kernel.accessAllowed ? 'block' : 'none';\n",
              "    })();\n",
              "  </script>\n",
              "</div>\n",
              "    </div>\n",
              "  </div>\n"
            ]
          },
          "metadata": {},
          "execution_count": 2
        }
      ]
    },
    {
      "cell_type": "markdown",
      "source": [
        "**Step 2: Using the preprocessed data, create the features (X) and target (y) datasets. The target dataset should be defined by the preprocessed DataFrame column “credit_ranking”. The remaining columns should define the features dataset.**"
      ],
      "metadata": {
        "id": "LrX4tdArbou4"
      }
    },
    {
      "cell_type": "code",
      "source": [
        "# # Review the data types associated with the columns\n",
        "cc_df.dtypes"
      ],
      "metadata": {
        "colab": {
          "base_uri": "https://localhost:8080/"
        },
        "id": "Sva3-bLgb1jo",
        "outputId": "2cbcf09d-01df-43de-8543-228094d4cdaf"
      },
      "execution_count": 3,
      "outputs": [
        {
          "output_type": "execute_result",
          "data": {
            "text/plain": [
              "payment_history           float64\n",
              "location_parameter        float64\n",
              "stem_degree_score         float64\n",
              "gpa_ranking               float64\n",
              "alumni_success            float64\n",
              "study_major_code          float64\n",
              "time_to_completion        float64\n",
              "finance_workshop_score    float64\n",
              "cohort_ranking            float64\n",
              "total_loan_score          float64\n",
              "financial_aid_score       float64\n",
              "credit_ranking              int64\n",
              "dtype: object"
            ]
          },
          "metadata": {},
          "execution_count": 3
        }
      ]
    },
    {
      "cell_type": "markdown",
      "source": [
        "**Step 2: Using the preprocessed data, create the features (X) and target (y) datasets. The target dataset should be defined by the preprocessed DataFrame column “credit_ranking”. The remaining columns should define the features dataset.**"
      ],
      "metadata": {
        "id": "65nVZDehc6Cb"
      }
    },
    {
      "cell_type": "code",
      "source": [
        "# Define the target set y using the credit_ranking column\n",
        "y = cc_df[\"credit_ranking\"]\n",
        "#y[:5]\n",
        "#print(y[:5].reshape(5, 1))\n",
        "y.values.reshape(1,-1) [:5]"
      ],
      "metadata": {
        "colab": {
          "base_uri": "https://localhost:8080/"
        },
        "id": "8ynywbwBdAik",
        "outputId": "1b5b7bdd-f35e-4f09-b256-143f0065e631"
      },
      "execution_count": 4,
      "outputs": [
        {
          "output_type": "execute_result",
          "data": {
            "text/plain": [
              "array([[5, 5, 5, ..., 6, 5, 6]])"
            ]
          },
          "metadata": {},
          "execution_count": 4
        }
      ]
    },
    {
      "cell_type": "code",
      "source": [
        "# Define features set X by selecting all columns but credit_ranking\n",
        "X = cc_df.drop(columns=[\"credit_ranking\"]).copy()\n",
        "\n",
        "# Review the features DataFrame\n",
        "X.head()"
      ],
      "metadata": {
        "colab": {
          "base_uri": "https://localhost:8080/",
          "height": 226
        },
        "id": "mn-mba43hUsO",
        "outputId": "5675c3db-1c7e-448b-cf43-1831ca4f141a"
      },
      "execution_count": 5,
      "outputs": [
        {
          "output_type": "execute_result",
          "data": {
            "text/plain": [
              "   payment_history  location_parameter  stem_degree_score  gpa_ranking  \\\n",
              "0              7.4                0.70               0.00          1.9   \n",
              "1              7.8                0.88               0.00          2.6   \n",
              "2              7.8                0.76               0.04          2.3   \n",
              "3             11.2                0.28               0.56          1.9   \n",
              "4              7.4                0.70               0.00          1.9   \n",
              "\n",
              "   alumni_success  study_major_code  time_to_completion  \\\n",
              "0           0.076              11.0                34.0   \n",
              "1           0.098              25.0                67.0   \n",
              "2           0.092              15.0                54.0   \n",
              "3           0.075              17.0                60.0   \n",
              "4           0.076              11.0                34.0   \n",
              "\n",
              "   finance_workshop_score  cohort_ranking  total_loan_score  \\\n",
              "0                  0.9978            3.51              0.56   \n",
              "1                  0.9968            3.20              0.68   \n",
              "2                  0.9970            3.26              0.65   \n",
              "3                  0.9980            3.16              0.58   \n",
              "4                  0.9978            3.51              0.56   \n",
              "\n",
              "   financial_aid_score  \n",
              "0                  9.4  \n",
              "1                  9.8  \n",
              "2                  9.8  \n",
              "3                  9.8  \n",
              "4                  9.4  "
            ],
            "text/html": [
              "\n",
              "  <div id=\"df-7fdde5b6-0d30-4e71-8e76-e7e7be0a1b50\" class=\"colab-df-container\">\n",
              "    <div>\n",
              "<style scoped>\n",
              "    .dataframe tbody tr th:only-of-type {\n",
              "        vertical-align: middle;\n",
              "    }\n",
              "\n",
              "    .dataframe tbody tr th {\n",
              "        vertical-align: top;\n",
              "    }\n",
              "\n",
              "    .dataframe thead th {\n",
              "        text-align: right;\n",
              "    }\n",
              "</style>\n",
              "<table border=\"1\" class=\"dataframe\">\n",
              "  <thead>\n",
              "    <tr style=\"text-align: right;\">\n",
              "      <th></th>\n",
              "      <th>payment_history</th>\n",
              "      <th>location_parameter</th>\n",
              "      <th>stem_degree_score</th>\n",
              "      <th>gpa_ranking</th>\n",
              "      <th>alumni_success</th>\n",
              "      <th>study_major_code</th>\n",
              "      <th>time_to_completion</th>\n",
              "      <th>finance_workshop_score</th>\n",
              "      <th>cohort_ranking</th>\n",
              "      <th>total_loan_score</th>\n",
              "      <th>financial_aid_score</th>\n",
              "    </tr>\n",
              "  </thead>\n",
              "  <tbody>\n",
              "    <tr>\n",
              "      <th>0</th>\n",
              "      <td>7.4</td>\n",
              "      <td>0.70</td>\n",
              "      <td>0.00</td>\n",
              "      <td>1.9</td>\n",
              "      <td>0.076</td>\n",
              "      <td>11.0</td>\n",
              "      <td>34.0</td>\n",
              "      <td>0.9978</td>\n",
              "      <td>3.51</td>\n",
              "      <td>0.56</td>\n",
              "      <td>9.4</td>\n",
              "    </tr>\n",
              "    <tr>\n",
              "      <th>1</th>\n",
              "      <td>7.8</td>\n",
              "      <td>0.88</td>\n",
              "      <td>0.00</td>\n",
              "      <td>2.6</td>\n",
              "      <td>0.098</td>\n",
              "      <td>25.0</td>\n",
              "      <td>67.0</td>\n",
              "      <td>0.9968</td>\n",
              "      <td>3.20</td>\n",
              "      <td>0.68</td>\n",
              "      <td>9.8</td>\n",
              "    </tr>\n",
              "    <tr>\n",
              "      <th>2</th>\n",
              "      <td>7.8</td>\n",
              "      <td>0.76</td>\n",
              "      <td>0.04</td>\n",
              "      <td>2.3</td>\n",
              "      <td>0.092</td>\n",
              "      <td>15.0</td>\n",
              "      <td>54.0</td>\n",
              "      <td>0.9970</td>\n",
              "      <td>3.26</td>\n",
              "      <td>0.65</td>\n",
              "      <td>9.8</td>\n",
              "    </tr>\n",
              "    <tr>\n",
              "      <th>3</th>\n",
              "      <td>11.2</td>\n",
              "      <td>0.28</td>\n",
              "      <td>0.56</td>\n",
              "      <td>1.9</td>\n",
              "      <td>0.075</td>\n",
              "      <td>17.0</td>\n",
              "      <td>60.0</td>\n",
              "      <td>0.9980</td>\n",
              "      <td>3.16</td>\n",
              "      <td>0.58</td>\n",
              "      <td>9.8</td>\n",
              "    </tr>\n",
              "    <tr>\n",
              "      <th>4</th>\n",
              "      <td>7.4</td>\n",
              "      <td>0.70</td>\n",
              "      <td>0.00</td>\n",
              "      <td>1.9</td>\n",
              "      <td>0.076</td>\n",
              "      <td>11.0</td>\n",
              "      <td>34.0</td>\n",
              "      <td>0.9978</td>\n",
              "      <td>3.51</td>\n",
              "      <td>0.56</td>\n",
              "      <td>9.4</td>\n",
              "    </tr>\n",
              "  </tbody>\n",
              "</table>\n",
              "</div>\n",
              "    <div class=\"colab-df-buttons\">\n",
              "\n",
              "  <div class=\"colab-df-container\">\n",
              "    <button class=\"colab-df-convert\" onclick=\"convertToInteractive('df-7fdde5b6-0d30-4e71-8e76-e7e7be0a1b50')\"\n",
              "            title=\"Convert this dataframe to an interactive table.\"\n",
              "            style=\"display:none;\">\n",
              "\n",
              "  <svg xmlns=\"http://www.w3.org/2000/svg\" height=\"24px\" viewBox=\"0 -960 960 960\">\n",
              "    <path d=\"M120-120v-720h720v720H120Zm60-500h600v-160H180v160Zm220 220h160v-160H400v160Zm0 220h160v-160H400v160ZM180-400h160v-160H180v160Zm440 0h160v-160H620v160ZM180-180h160v-160H180v160Zm440 0h160v-160H620v160Z\"/>\n",
              "  </svg>\n",
              "    </button>\n",
              "\n",
              "  <style>\n",
              "    .colab-df-container {\n",
              "      display:flex;\n",
              "      gap: 12px;\n",
              "    }\n",
              "\n",
              "    .colab-df-convert {\n",
              "      background-color: #E8F0FE;\n",
              "      border: none;\n",
              "      border-radius: 50%;\n",
              "      cursor: pointer;\n",
              "      display: none;\n",
              "      fill: #1967D2;\n",
              "      height: 32px;\n",
              "      padding: 0 0 0 0;\n",
              "      width: 32px;\n",
              "    }\n",
              "\n",
              "    .colab-df-convert:hover {\n",
              "      background-color: #E2EBFA;\n",
              "      box-shadow: 0px 1px 2px rgba(60, 64, 67, 0.3), 0px 1px 3px 1px rgba(60, 64, 67, 0.15);\n",
              "      fill: #174EA6;\n",
              "    }\n",
              "\n",
              "    .colab-df-buttons div {\n",
              "      margin-bottom: 4px;\n",
              "    }\n",
              "\n",
              "    [theme=dark] .colab-df-convert {\n",
              "      background-color: #3B4455;\n",
              "      fill: #D2E3FC;\n",
              "    }\n",
              "\n",
              "    [theme=dark] .colab-df-convert:hover {\n",
              "      background-color: #434B5C;\n",
              "      box-shadow: 0px 1px 3px 1px rgba(0, 0, 0, 0.15);\n",
              "      filter: drop-shadow(0px 1px 2px rgba(0, 0, 0, 0.3));\n",
              "      fill: #FFFFFF;\n",
              "    }\n",
              "  </style>\n",
              "\n",
              "    <script>\n",
              "      const buttonEl =\n",
              "        document.querySelector('#df-7fdde5b6-0d30-4e71-8e76-e7e7be0a1b50 button.colab-df-convert');\n",
              "      buttonEl.style.display =\n",
              "        google.colab.kernel.accessAllowed ? 'block' : 'none';\n",
              "\n",
              "      async function convertToInteractive(key) {\n",
              "        const element = document.querySelector('#df-7fdde5b6-0d30-4e71-8e76-e7e7be0a1b50');\n",
              "        const dataTable =\n",
              "          await google.colab.kernel.invokeFunction('convertToInteractive',\n",
              "                                                    [key], {});\n",
              "        if (!dataTable) return;\n",
              "\n",
              "        const docLinkHtml = 'Like what you see? Visit the ' +\n",
              "          '<a target=\"_blank\" href=https://colab.research.google.com/notebooks/data_table.ipynb>data table notebook</a>'\n",
              "          + ' to learn more about interactive tables.';\n",
              "        element.innerHTML = '';\n",
              "        dataTable['output_type'] = 'display_data';\n",
              "        await google.colab.output.renderOutput(dataTable, element);\n",
              "        const docLink = document.createElement('div');\n",
              "        docLink.innerHTML = docLinkHtml;\n",
              "        element.appendChild(docLink);\n",
              "      }\n",
              "    </script>\n",
              "  </div>\n",
              "\n",
              "\n",
              "<div id=\"df-4112db37-6f0d-457d-ada3-5d4ec0fe4e30\">\n",
              "  <button class=\"colab-df-quickchart\" onclick=\"quickchart('df-4112db37-6f0d-457d-ada3-5d4ec0fe4e30')\"\n",
              "            title=\"Suggest charts.\"\n",
              "            style=\"display:none;\">\n",
              "\n",
              "<svg xmlns=\"http://www.w3.org/2000/svg\" height=\"24px\"viewBox=\"0 0 24 24\"\n",
              "     width=\"24px\">\n",
              "    <g>\n",
              "        <path d=\"M19 3H5c-1.1 0-2 .9-2 2v14c0 1.1.9 2 2 2h14c1.1 0 2-.9 2-2V5c0-1.1-.9-2-2-2zM9 17H7v-7h2v7zm4 0h-2V7h2v10zm4 0h-2v-4h2v4z\"/>\n",
              "    </g>\n",
              "</svg>\n",
              "  </button>\n",
              "\n",
              "<style>\n",
              "  .colab-df-quickchart {\n",
              "    background-color: #E8F0FE;\n",
              "    border: none;\n",
              "    border-radius: 50%;\n",
              "    cursor: pointer;\n",
              "    display: none;\n",
              "    fill: #1967D2;\n",
              "    height: 32px;\n",
              "    padding: 0 0 0 0;\n",
              "    width: 32px;\n",
              "  }\n",
              "\n",
              "  .colab-df-quickchart:hover {\n",
              "    background-color: #E2EBFA;\n",
              "    box-shadow: 0px 1px 2px rgba(60, 64, 67, 0.3), 0px 1px 3px 1px rgba(60, 64, 67, 0.15);\n",
              "    fill: #174EA6;\n",
              "  }\n",
              "\n",
              "  [theme=dark] .colab-df-quickchart {\n",
              "    background-color: #3B4455;\n",
              "    fill: #D2E3FC;\n",
              "  }\n",
              "\n",
              "  [theme=dark] .colab-df-quickchart:hover {\n",
              "    background-color: #434B5C;\n",
              "    box-shadow: 0px 1px 3px 1px rgba(0, 0, 0, 0.15);\n",
              "    filter: drop-shadow(0px 1px 2px rgba(0, 0, 0, 0.3));\n",
              "    fill: #FFFFFF;\n",
              "  }\n",
              "</style>\n",
              "\n",
              "  <script>\n",
              "    async function quickchart(key) {\n",
              "      const charts = await google.colab.kernel.invokeFunction(\n",
              "          'suggestCharts', [key], {});\n",
              "    }\n",
              "    (() => {\n",
              "      let quickchartButtonEl =\n",
              "        document.querySelector('#df-4112db37-6f0d-457d-ada3-5d4ec0fe4e30 button');\n",
              "      quickchartButtonEl.style.display =\n",
              "        google.colab.kernel.accessAllowed ? 'block' : 'none';\n",
              "    })();\n",
              "  </script>\n",
              "</div>\n",
              "    </div>\n",
              "  </div>\n"
            ]
          },
          "metadata": {},
          "execution_count": 5
        }
      ]
    },
    {
      "cell_type": "markdown",
      "source": [
        "**Step 3: Split the features and target sets into training and testing datasets.**"
      ],
      "metadata": {
        "id": "9ifcZ8gkh1IO"
      }
    },
    {
      "cell_type": "code",
      "source": [
        "# Split the preprocessed data into a training and testing dataset\n",
        "# Assign the function a random_state equal to 1\n",
        "X_train, X_test, y_train, y_test = train_test_split(X, y, random_state=1)"
      ],
      "metadata": {
        "id": "A6_LpHNriS3p"
      },
      "execution_count": 6,
      "outputs": []
    },
    {
      "cell_type": "code",
      "source": [
        "# Create a StandardScaler instance\n",
        "X_scaler = StandardScaler()\n",
        "\n",
        "# Fit the scaler to the features training dataset\n",
        "X_scaler.fit(X_train)\n",
        "\n",
        "# Fit the scaler to the features training dataset\n",
        "X_train_scaled = X_scaler.transform(X_train)"
      ],
      "metadata": {
        "id": "bn14blJAh6ez"
      },
      "execution_count": 7,
      "outputs": []
    },
    {
      "cell_type": "markdown",
      "source": [
        "# **Compile and Evaluate a Model Using a Neural Network**"
      ],
      "metadata": {
        "id": "QGwNWVA4isix"
      }
    },
    {
      "cell_type": "markdown",
      "source": [
        "**Step 1: Create a deep neural network by assigning the number of input features, the number of layers, and the number of neurons on each layer using Tensorflow’s Keras.**\n",
        "\n",
        "Hint You can start with a two-layer deep neural network model that uses the relu activation function for both layers."
      ],
      "metadata": {
        "id": "L1UXHpogiu2q"
      }
    },
    {
      "cell_type": "code",
      "source": [
        "# Define the the number of inputs (features) to the model\n",
        "number_inputs = 11\n",
        "\n",
        "# Review the number of features\n",
        "number_inputs"
      ],
      "metadata": {
        "colab": {
          "base_uri": "https://localhost:8080/"
        },
        "id": "P6_IuSX-i1ee",
        "outputId": "9ed8131c-be10-4909-98e6-25baa2fa2172"
      },
      "execution_count": 8,
      "outputs": [
        {
          "output_type": "execute_result",
          "data": {
            "text/plain": [
              "11"
            ]
          },
          "metadata": {},
          "execution_count": 8
        }
      ]
    },
    {
      "cell_type": "code",
      "source": [
        "# Define the number of neurons in the output layer\n",
        "number_neurons = 3"
      ],
      "metadata": {
        "id": "PMMtOwJHlxJ7"
      },
      "execution_count": 9,
      "outputs": []
    },
    {
      "cell_type": "code",
      "source": [
        "# Define the number of hidden nodes for the first hidden layer\n",
        "number_hidden_nodes1 = 6\n",
        "\n",
        "# Review the number hidden nodes in the first layer\n",
        "number_hidden_nodes1"
      ],
      "metadata": {
        "id": "ud5KWSYzmUdM",
        "colab": {
          "base_uri": "https://localhost:8080/"
        },
        "outputId": "e3b08e4b-84f0-4387-d421-e715870be093"
      },
      "execution_count": 15,
      "outputs": [
        {
          "output_type": "execute_result",
          "data": {
            "text/plain": [
              "6"
            ]
          },
          "metadata": {},
          "execution_count": 15
        }
      ]
    },
    {
      "cell_type": "code",
      "source": [
        "# Define the number of hidden nodes for the second hidden layer\n",
        "number_hidden_nodes2 = 3\n",
        "\n",
        "# Review the number hidden nodes in the second layer\n",
        "number_hidden_nodes2"
      ],
      "metadata": {
        "colab": {
          "base_uri": "https://localhost:8080/"
        },
        "id": "-7uYxqnUIdNO",
        "outputId": "97da2fdb-110a-48ec-c579-148b9ed485de"
      },
      "execution_count": 16,
      "outputs": [
        {
          "output_type": "execute_result",
          "data": {
            "text/plain": [
              "3"
            ]
          },
          "metadata": {},
          "execution_count": 16
        }
      ]
    },
    {
      "cell_type": "code",
      "source": [
        "# Create the Sequential model instance\n",
        "nn = Sequential()"
      ],
      "metadata": {
        "id": "YpBoyeqcJLjU"
      },
      "execution_count": 13,
      "outputs": []
    },
    {
      "cell_type": "code",
      "source": [
        "# Add the first hidden layer\n",
        "nn.add(Dense(units=number_hidden_nodes1, input_dim=number_inputs, activation=\"relu\"))"
      ],
      "metadata": {
        "id": "NGLAP6ziJWmw"
      },
      "execution_count": 17,
      "outputs": []
    },
    {
      "cell_type": "code",
      "source": [
        "# Add the second hidden layer\n",
        "nn.add(Dense(units=number_hidden_nodes2, activation=\"relu\"))"
      ],
      "metadata": {
        "id": "zQj0YJ74KXP-"
      },
      "execution_count": 18,
      "outputs": []
    },
    {
      "cell_type": "code",
      "source": [
        "# Add the output layer to the model specifying the number of output neurons and activation function\n",
        "nn.add(Dense(units=1, activation=\"linear\"))"
      ],
      "metadata": {
        "id": "kR3GE2-IKkmJ"
      },
      "execution_count": 19,
      "outputs": []
    },
    {
      "cell_type": "code",
      "source": [
        "# Display the Sequential model summary\n",
        "nn.summary()"
      ],
      "metadata": {
        "colab": {
          "base_uri": "https://localhost:8080/"
        },
        "id": "N1kn-MDvKupJ",
        "outputId": "ae04c519-6e94-465f-d515-11e993e199c6"
      },
      "execution_count": 21,
      "outputs": [
        {
          "output_type": "stream",
          "name": "stdout",
          "text": [
            "Model: \"sequential\"\n",
            "_________________________________________________________________\n",
            " Layer (type)                Output Shape              Param #   \n",
            "=================================================================\n",
            " dense (Dense)               (None, 6)                 72        \n",
            "                                                                 \n",
            " dense_1 (Dense)             (None, 3)                 21        \n",
            "                                                                 \n",
            " dense_2 (Dense)             (None, 1)                 4         \n",
            "                                                                 \n",
            "=================================================================\n",
            "Total params: 97\n",
            "Trainable params: 97\n",
            "Non-trainable params: 0\n",
            "_________________________________________________________________\n"
          ]
        }
      ]
    },
    {
      "cell_type": "markdown",
      "source": [
        "### Step 2: Compile and fit the model using the `mse` loss function, the `adam` optimizer, and the `mse` evaluation metric.\n"
      ],
      "metadata": {
        "id": "EiWrvi1lLYle"
      }
    },
    {
      "cell_type": "code",
      "source": [
        "# Compile the Sequential model\n",
        "nn.compile(loss=\"mean_squared_error\", optimizer=\"adam\", metrics=[\"mse\"])"
      ],
      "metadata": {
        "id": "RDg6c53dLcVM"
      },
      "execution_count": 36,
      "outputs": []
    },
    {
      "cell_type": "code",
      "source": [
        "# Fit the model using 50 epochs and the training data\n",
        "nn_model = nn.fit(X_train_scaled, y_train, epochs=50)"
      ],
      "metadata": {
        "colab": {
          "base_uri": "https://localhost:8080/"
        },
        "id": "kSL33FTcL0Qs",
        "outputId": "6dbfd78c-f86e-4850-91a4-be8ca6d9a8b4"
      },
      "execution_count": 41,
      "outputs": [
        {
          "output_type": "stream",
          "name": "stdout",
          "text": [
            "Epoch 1/50\n",
            "38/38 [==============================] - 0s 3ms/step - loss: 0.3685 - mse: 0.3685\n",
            "Epoch 2/50\n",
            "38/38 [==============================] - 0s 4ms/step - loss: 0.3697 - mse: 0.3697\n",
            "Epoch 3/50\n",
            "38/38 [==============================] - 0s 3ms/step - loss: 0.3700 - mse: 0.3700\n",
            "Epoch 4/50\n",
            "38/38 [==============================] - 0s 3ms/step - loss: 0.3689 - mse: 0.3689\n",
            "Epoch 5/50\n",
            "38/38 [==============================] - 0s 3ms/step - loss: 0.3685 - mse: 0.3685\n",
            "Epoch 6/50\n",
            "38/38 [==============================] - 0s 3ms/step - loss: 0.3685 - mse: 0.3685\n",
            "Epoch 7/50\n",
            "38/38 [==============================] - 0s 2ms/step - loss: 0.3693 - mse: 0.3693\n",
            "Epoch 8/50\n",
            "38/38 [==============================] - 0s 2ms/step - loss: 0.3691 - mse: 0.3691\n",
            "Epoch 9/50\n",
            "38/38 [==============================] - 0s 2ms/step - loss: 0.3674 - mse: 0.3674\n",
            "Epoch 10/50\n",
            "38/38 [==============================] - 0s 2ms/step - loss: 0.3677 - mse: 0.3677\n",
            "Epoch 11/50\n",
            "38/38 [==============================] - 0s 2ms/step - loss: 0.3702 - mse: 0.3702\n",
            "Epoch 12/50\n",
            "38/38 [==============================] - 0s 2ms/step - loss: 0.3687 - mse: 0.3687\n",
            "Epoch 13/50\n",
            "38/38 [==============================] - 0s 2ms/step - loss: 0.3683 - mse: 0.3683\n",
            "Epoch 14/50\n",
            "38/38 [==============================] - 0s 2ms/step - loss: 0.3681 - mse: 0.3681\n",
            "Epoch 15/50\n",
            "38/38 [==============================] - 0s 2ms/step - loss: 0.3678 - mse: 0.3678\n",
            "Epoch 16/50\n",
            "38/38 [==============================] - 0s 2ms/step - loss: 0.3685 - mse: 0.3685\n",
            "Epoch 17/50\n",
            "38/38 [==============================] - 0s 2ms/step - loss: 0.3671 - mse: 0.3671\n",
            "Epoch 18/50\n",
            "38/38 [==============================] - 0s 2ms/step - loss: 0.3678 - mse: 0.3678\n",
            "Epoch 19/50\n",
            "38/38 [==============================] - 0s 2ms/step - loss: 0.3677 - mse: 0.3677\n",
            "Epoch 20/50\n",
            "38/38 [==============================] - 0s 2ms/step - loss: 0.3672 - mse: 0.3672\n",
            "Epoch 21/50\n",
            "38/38 [==============================] - 0s 2ms/step - loss: 0.3671 - mse: 0.3671\n",
            "Epoch 22/50\n",
            "38/38 [==============================] - 0s 2ms/step - loss: 0.3677 - mse: 0.3677\n",
            "Epoch 23/50\n",
            "38/38 [==============================] - 0s 2ms/step - loss: 0.3689 - mse: 0.3689\n",
            "Epoch 24/50\n",
            "38/38 [==============================] - 0s 2ms/step - loss: 0.3658 - mse: 0.3658\n",
            "Epoch 25/50\n",
            "38/38 [==============================] - 0s 2ms/step - loss: 0.3674 - mse: 0.3674\n",
            "Epoch 26/50\n",
            "38/38 [==============================] - 0s 2ms/step - loss: 0.3666 - mse: 0.3666\n",
            "Epoch 27/50\n",
            "38/38 [==============================] - 0s 2ms/step - loss: 0.3672 - mse: 0.3672\n",
            "Epoch 28/50\n",
            "38/38 [==============================] - 0s 2ms/step - loss: 0.3674 - mse: 0.3674\n",
            "Epoch 29/50\n",
            "38/38 [==============================] - 0s 2ms/step - loss: 0.3668 - mse: 0.3668\n",
            "Epoch 30/50\n",
            "38/38 [==============================] - 0s 2ms/step - loss: 0.3676 - mse: 0.3676\n",
            "Epoch 31/50\n",
            "38/38 [==============================] - 0s 2ms/step - loss: 0.3666 - mse: 0.3666\n",
            "Epoch 32/50\n",
            "38/38 [==============================] - 0s 2ms/step - loss: 0.3669 - mse: 0.3669\n",
            "Epoch 33/50\n",
            "38/38 [==============================] - 0s 2ms/step - loss: 0.3671 - mse: 0.3671\n",
            "Epoch 34/50\n",
            "38/38 [==============================] - 0s 2ms/step - loss: 0.3653 - mse: 0.3653\n",
            "Epoch 35/50\n",
            "38/38 [==============================] - 0s 2ms/step - loss: 0.3663 - mse: 0.3663\n",
            "Epoch 36/50\n",
            "38/38 [==============================] - 0s 2ms/step - loss: 0.3660 - mse: 0.3660\n",
            "Epoch 37/50\n",
            "38/38 [==============================] - 0s 2ms/step - loss: 0.3671 - mse: 0.3671\n",
            "Epoch 38/50\n",
            "38/38 [==============================] - 0s 2ms/step - loss: 0.3671 - mse: 0.3671\n",
            "Epoch 39/50\n",
            "38/38 [==============================] - 0s 2ms/step - loss: 0.3648 - mse: 0.3648\n",
            "Epoch 40/50\n",
            "38/38 [==============================] - 0s 2ms/step - loss: 0.3670 - mse: 0.3670\n",
            "Epoch 41/50\n",
            "38/38 [==============================] - 0s 2ms/step - loss: 0.3661 - mse: 0.3661\n",
            "Epoch 42/50\n",
            "38/38 [==============================] - 0s 2ms/step - loss: 0.3667 - mse: 0.3667\n",
            "Epoch 43/50\n",
            "38/38 [==============================] - 0s 2ms/step - loss: 0.3654 - mse: 0.3654\n",
            "Epoch 44/50\n",
            "38/38 [==============================] - 0s 2ms/step - loss: 0.3655 - mse: 0.3655\n",
            "Epoch 45/50\n",
            "38/38 [==============================] - 0s 2ms/step - loss: 0.3656 - mse: 0.3656\n",
            "Epoch 46/50\n",
            "38/38 [==============================] - 0s 2ms/step - loss: 0.3664 - mse: 0.3664\n",
            "Epoch 47/50\n",
            "38/38 [==============================] - 0s 2ms/step - loss: 0.3669 - mse: 0.3669\n",
            "Epoch 48/50\n",
            "38/38 [==============================] - 0s 2ms/step - loss: 0.3674 - mse: 0.3674\n",
            "Epoch 49/50\n",
            "38/38 [==============================] - 0s 2ms/step - loss: 0.3676 - mse: 0.3676\n",
            "Epoch 50/50\n",
            "38/38 [==============================] - 0s 2ms/step - loss: 0.3648 - mse: 0.3648\n"
          ]
        }
      ]
    },
    {
      "cell_type": "markdown",
      "source": [
        "**Step 3: Evaluate the model using the test data to determine the model’s loss and accuracy.**"
      ],
      "metadata": {
        "id": "FjVqaIr1MFEA"
      }
    },
    {
      "cell_type": "code",
      "source": [
        "# Evaluate the model loss and accuracy metrics using the evaluate method and the test data\n",
        "nn_loss, nn_mse = nn.evaluate(X_test, y_test, verbose=2)\n",
        "\n",
        "# Display the model loss and accuracy results\n"
      ],
      "metadata": {
        "colab": {
          "base_uri": "https://localhost:8080/"
        },
        "id": "-UB3cNFuMGts",
        "outputId": "e5f2f0dd-a951-429c-8c1d-55166b300fac"
      },
      "execution_count": 46,
      "outputs": [
        {
          "output_type": "stream",
          "name": "stdout",
          "text": [
            "13/13 - 0s - loss: 329.5763 - mse: 329.5763 - 56ms/epoch - 4ms/step\n"
          ]
        }
      ]
    },
    {
      "cell_type": "code",
      "source": [
        "# Set the model's file path\n",
        "file_path = Path(\"saved_models/Student_Loan_Risk_with_Deep_Learning.h5\")\n",
        "\n",
        "# Export your model to a HDF5 file\n",
        "nn.save(file_path)"
      ],
      "metadata": {
        "id": "d830H-McQTZv"
      },
      "execution_count": 45,
      "outputs": []
    },
    {
      "cell_type": "markdown",
      "source": [
        "# **Predict Loan Repayment Success by Using your Neural Network Model**"
      ],
      "metadata": {
        "id": "xjZkHqCaUDrB"
      }
    },
    {
      "cell_type": "markdown",
      "source": [
        "**Step 1: Reload your saved model**"
      ],
      "metadata": {
        "id": "wOtBxhY0UOgR"
      }
    },
    {
      "cell_type": "code",
      "source": [
        "# Set the model's file path\n",
        "file_path = Path(\"Student_Loan_Risk_with_Deep_Learnin.h5\")\n",
        "\n",
        "# Load the model to a new object\n",
        "nn_imported = tf.keras.models.load_model(file_path)"
      ],
      "metadata": {
        "id": "zqiJAZdvUMQh"
      },
      "execution_count": null,
      "outputs": []
    },
    {
      "cell_type": "markdown",
      "source": [
        "**Step 2: Make predictions on the testing data.**"
      ],
      "metadata": {
        "id": "anY0WfAvWnBT"
      }
    },
    {
      "cell_type": "code",
      "source": [],
      "metadata": {
        "id": "p8WWs9CJWr-4"
      },
      "execution_count": null,
      "outputs": []
    }
  ]
}